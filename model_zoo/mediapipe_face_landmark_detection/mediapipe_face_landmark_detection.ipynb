{
  "cells": [
    {
      "cell_type": "code",
      "execution_count": null,
      "metadata": {
        "id": "0ncbCpDHYrtI"
      },
      "outputs": [],
      "source": [
        "%%capture\n",
        "#Get current directory\n",
        "import os\n",
        "curr_dir=os.getcwd()\n",
        "\n",
        "# Download the Training file that contain model and framework\n",
        "!wget -O face_landmark.zip https://www.dropbox.com/s/3l9qb414dzronaf/face_landmark.zip?dl=0\n",
        "!unzip face_landmark.zip\n",
        "!rm -rf face_landmark.zip\n",
        "!pip install --upgrade --no-cache-dir gdown"
      ]
    },
    {
      "cell_type": "code",
      "execution_count": null,
      "metadata": {
        "id": "Hel8c-QZoznv"
      },
      "outputs": [],
      "source": [
        "# Download COCO dataset label\n",
        "%%capture\n",
        "%cd {curr_dir}/face_landmark\n",
        "!wget -O coco2017labels.zip https://www.dropbox.com/s/zd1ln3is8anb7rn/coco2017labels.zip?dl=0\n",
        "!unzip -q coco2017labels.zip\n",
        "!rm -rf coco2017labels.zip"
      ]
    },
    {
      "cell_type": "code",
      "execution_count": null,
      "metadata": {
        "id": "xHYhRnSiY77E"
      },
      "outputs": [],
      "source": [
        "#Download COCO dataset (This will be used for representative dataset calibration on quantized tflite)\n",
        "%cd coco/images\n",
        "!f=\"val2017.zip\" && curl http://images.cocodataset.org/zips/$f -o $f && unzip -q $f && rm $f  # 1G, 5k images"
      ]
    },
    {
      "cell_type": "code",
      "execution_count": null,
      "metadata": {
        "id": "kdVD9TzRoZI3"
      },
      "outputs": [],
      "source": [
        "%cd {curr_dir}/face_landmark/\n",
        "\n",
        "#Renaming and moving dataset \n",
        "!mkdir datasets && mv ./coco/ ./datasets/\n",
        "\n",
        "#Renaming path in dataset to match the latest path after moving dataset\n",
        "!sed -i 's/.\\/images/.\\/datasets\\/coco\\/images/g' ./datasets/coco/val2017.txt"
      ]
    },
    {
      "cell_type": "code",
      "execution_count": null,
      "metadata": {
        "id": "xnoQzHNPpbvq"
      },
      "outputs": [],
      "source": [
        "#Convert model to .tflite\n",
        "!python scripts/convert_tflite.py --model ./models/mediapipe_face_landmark_192x192x3/saved_model/ --input_shape 192x192x3 --int8_inputs --int8_operations --images ./datasets/coco/val2017.txt --random --num_images 100 --int8_outputs --min_value 0 --max_value 1"
      ]
    },
    {
      "cell_type": "code",
      "execution_count": null,
      "metadata": {
        "id": "Tgez6dytps7C"
      },
      "outputs": [],
      "source": [
        "#Perform inference on tflite model\n",
        "!python scripts/perform_face_landmark_detection_inference.py --model ./tflite_model_192x192x3_int8_in_int8_opint8_out.tflite --image ./images/geoffrey-hinton.jpg --threshold 0.5\n"
      ]
    },
    {
      "cell_type": "code",
      "execution_count": null,
      "metadata": {
        "id": "Y5ZqFG1zsITG"
      },
      "outputs": [],
      "source": [
        "#Rename tflite model following <architecture>_<application>.tflite. This will be used in TinyML Generator for accelerator and model generation\n",
        "!mv {curr_dir}/face_landmark/tflite_model_192x192x3_int8_in_int8_opint8_out.tflite {curr_dir}/mediapipe_face_landmark.tflite"
      ]
    }
  ],
  "metadata": {
    "colab": {
      "name": "FaceLandmarkTraining.ipynb",
      "provenance": []
    },
    "kernelspec": {
      "display_name": "Python 3",
      "name": "python3"
    },
    "language_info": {
      "name": "python"
    }
  },
  "nbformat": 4,
  "nbformat_minor": 0
}
