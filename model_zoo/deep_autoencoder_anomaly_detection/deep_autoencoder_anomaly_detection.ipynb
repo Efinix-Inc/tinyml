{
  "cells": [
    {
      "cell_type": "code",
      "execution_count": 1,
      "metadata": {
        "id": "KK9jFVLlYg5S"
      },
      "outputs": [],
      "source": [
        "#It is required to have more than 12GB RAM to perform training\n",
        "#Subscription for Google Colab Pro might be needed for Google Colab user\n",
        "#Testing can still be done without training as a pre-trained data is included.\n",
        "%%capture\n",
        "#Get current directory and download the training files\n",
        "import os\n",
        "curr_dir=os.getcwd()\n",
        "!wget -O anomaly_detection.zip https://www.dropbox.com/s/bqktvqw4uop8rss/anomaly_detection.zip?dl=0\n",
        "!unzip anomaly_detection.zip\n",
        "!rm -rf anomaly_detection.zip\n",
        "%cd {curr_dir}/anomaly_detection"
      ]
    },
    {
      "cell_type": "code",
      "execution_count": null,
      "metadata": {
        "id": "bUoXacLzZV6a"
      },
      "outputs": [],
      "source": [
        "#Install requirement. Skip this step if you are running on Google Colab as all the requirement is already installed\n",
        "#!pip install -r requirements.txt"
      ]
    },
    {
      "cell_type": "code",
      "execution_count": null,
      "metadata": {
        "id": "kSeiHQK4ZzCh"
      },
      "outputs": [],
      "source": [
        "##Download the dataset to perform training or testing\n",
        "#Train dataset\n",
        "!mkdir -p dev_data \n",
        "!wget -O dev_data_ToyCar.zip https://zenodo.org/record/3678171/files/dev_data_ToyCar.zip?download=1\n",
        "!unzip dev_data_ToyCar.zip -d dev_data\n",
        "!rm -rf dev_data_ToyCar.zip\n",
        "\n",
        "#Eval Dataset\n",
        "!wget -O dev_data_ToyCar.zip https://zenodo.org/record/3727685/files/eval_data_train_ToyCar.zip?download=1\n",
        "!unzip dev_data_ToyCar.zip -d dev_data\n",
        "!rm -rf dev_data_ToyCar.zip"
      ]
    },
    {
      "cell_type": "code",
      "execution_count": null,
      "metadata": {
        "id": "L7BFkSr0blyv"
      },
      "outputs": [],
      "source": [
        "#Start the training\n",
        "!python 00_train.py --dev "
      ]
    },
    {
      "cell_type": "code",
      "execution_count": null,
      "metadata": {
        "id": "l8jDOdP0exJM"
      },
      "outputs": [],
      "source": [
        "#Test the model\n",
        "!python 01_test.py --dev"
      ]
    },
    {
      "cell_type": "code",
      "execution_count": null,
      "metadata": {
        "id": "Q3tEDLa7e3gz"
      },
      "outputs": [],
      "source": [
        "#Convert the model to TFLite with Quantization\n",
        "!python 02_convert.py --dev"
      ]
    },
    {
      "cell_type": "code",
      "execution_count": null,
      "metadata": {
        "id": "FjTzGgT5fBKS"
      },
      "outputs": [],
      "source": [
        "#Test the converted model\n",
        "!python 03_tflite_test.py --dev"
      ]
    },
    {
      "cell_type": "code",
      "execution_count": 3,
      "metadata": {
        "id": "NYBTmtNWfF_V"
      },
      "outputs": [],
      "source": [
        "#Loading the TFLite model\n",
        "import numpy\n",
        "import tensorflow as tf\n",
        "import common as com\n",
        "mod=com.get_quant_model_name()\n",
        "tflite_file=f'trained_models/{mod}_model_ToyCar_quant_fullint_micro_intio.tflite'\n",
        "interpreter = tf.lite.Interpreter(model_path=tflite_file)\n",
        "interpreter.allocate_tensors()\n",
        "input_details = interpreter.get_input_details()\n",
        "output_details = interpreter.get_output_details()"
      ]
    },
    {
      "cell_type": "code",
      "execution_count": null,
      "metadata": {
        "id": "jT9BKy2ZgHDx"
      },
      "outputs": [],
      "source": [
        "#Selective testing. 2 Slices from normal_id_01_00000200 is selected for inferencing.\n",
        "#This data will be used to perform inference in hardware\n",
        "\n",
        "data = com.file_to_vector_array('./dev_data/ToyCar/test/normal_id_01_00000200.wav',n_mels=128,frames=5,\n",
        "                                n_fft=1024,\n",
        "                                hop_length=512,\n",
        "                                power=2.0)\n",
        "input_scale, input_zero_point = input_details[0][\"quantization\"]\n",
        "output_scale,output_zero_point = output_details[0]['quantization']\n",
        "data_inp = data / input_scale + input_zero_point\n",
        "input_data = numpy.array(data_inp, dtype=numpy.int8)\n",
        "\n",
        "#Slice 1 from normal_id_01_00000200.wav\n",
        "interpreter.set_tensor(input_details[0]['index'], input_data[0:1,:])\n",
        "interpreter.invoke()\n",
        "output_data = numpy.empty_like(data_inp)\n",
        "output_data[0:1,:] = interpreter.get_tensor(output_details[0]['index'])\n",
        "output_data = (output_data[0:1,:].astype(numpy.float32) - output_zero_point)*output_scale\n",
        "data_inp_float=(input_data[0].astype(numpy.float32) - input_zero_point)*input_scale\n",
        "errors = numpy.mean(numpy.square(data_inp_float - output_data[0]))                  \n",
        "res = numpy.mean(errors)\n",
        "print(f'Normal Slice 1 Result : {res}')\n",
        "\n",
        "#Slice 2 from normal_id_01_00000200.wav\n",
        "interpreter.set_tensor(input_details[0]['index'], input_data[1:2,:])\n",
        "interpreter.invoke()\n",
        "output_data = numpy.empty_like(data_inp)\n",
        "output_data[1:2,:] = interpreter.get_tensor(output_details[0]['index'])\n",
        "output_data = (output_data[1:2,:].astype(numpy.float32) - output_zero_point)*output_scale\n",
        "data_inp_float=(input_data[1].astype(numpy.float32) - input_zero_point)*input_scale\n",
        "errors = numpy.mean(numpy.square(data_inp_float - output_data[0]))                  \n",
        "res = numpy.mean(errors)\n",
        "print(f'Normal Slice 2 Result : {res}')"
      ]
    },
    {
      "cell_type": "code",
      "execution_count": null,
      "metadata": {
        "id": "BKvyYoH8iQc1"
      },
      "outputs": [],
      "source": [
        "#Selective testing. 2 Slices from anomaly_id_01_00000250 is selected for inferencing.\n",
        "#This data will be used to perform inference in hardware\n",
        "\n",
        "data = com.file_to_vector_array('./dev_data/ToyCar/test/anomaly_id_01_00000250.wav',n_mels=128,frames=5,\n",
        "                                n_fft=1024,\n",
        "                                hop_length=512,\n",
        "                                power=2.0)\n",
        "input_scale, input_zero_point = input_details[0][\"quantization\"]\n",
        "output_scale,output_zero_point = output_details[0]['quantization']\n",
        "data_inp = data / input_scale + input_zero_point\n",
        "input_data = numpy.array(data_inp, dtype=numpy.int8)\n",
        "\n",
        "#Slice 1 from anomaly_id_01_00000250.wav\n",
        "interpreter.set_tensor(input_details[0]['index'], input_data[0:1,:])\n",
        "interpreter.invoke()\n",
        "output_data = numpy.empty_like(data_inp)\n",
        "output_data[0:1,:] = interpreter.get_tensor(output_details[0]['index'])\n",
        "output_data = (output_data[0:1,:].astype(numpy.float32) - output_zero_point)*output_scale\n",
        "data_inp_float=(input_data[0].astype(numpy.float32) - input_zero_point)*input_scale\n",
        "errors = numpy.mean(numpy.square(data_inp_float - output_data[0]))                  \n",
        "res = numpy.mean(errors)\n",
        "print(f'Anomaly Slice 1 Result : {res}')\n",
        "\n",
        "#Slice 2 from anomaly_id_01_00000250.wav\n",
        "interpreter.set_tensor(input_details[0]['index'], input_data[1:2,:])\n",
        "interpreter.invoke()\n",
        "output_data = numpy.empty_like(data_inp)\n",
        "output_data[1:2,:] = interpreter.get_tensor(output_details[0]['index'])\n",
        "output_data = (output_data[1:2,:].astype(numpy.float32) - output_zero_point)*output_scale\n",
        "data_inp_float=(input_data[1].astype(numpy.float32) - input_zero_point)*input_scale\n",
        "errors = numpy.mean(numpy.square(data_inp_float - output_data[0]))                  \n",
        "res = numpy.mean(errors)\n",
        "print(f'Anomaly Slice 2 Result : {res}')"
      ]
    },
    {
      "cell_type": "code",
      "source": [
        "#Copy and rename the TFLite file to be used by TinyML Generator\n",
        "import common as com\n",
        "mod=com.get_quant_model_name()\n",
        "!cp -R trained_models/{mod}_model_ToyCar_quant_fullint_micro_intio.tflite deep_autoencoder_anomaly_detection.tflite"
      ],
      "metadata": {
        "id": "VCkOe_4bvbwV"
      },
      "execution_count": 12,
      "outputs": []
    }
  ],
  "metadata": {
    "colab": {
      "provenance": []
    },
    "gpuClass": "standard",
    "kernelspec": {
      "display_name": "Python 3",
      "name": "python3"
    },
    "language_info": {
      "name": "python"
    }
  },
  "nbformat": 4,
  "nbformat_minor": 0
}