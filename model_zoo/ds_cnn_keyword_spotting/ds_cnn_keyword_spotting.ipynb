{
  "cells": [
    {
      "cell_type": "code",
      "execution_count": null,
      "metadata": {
        "id": "7CZCJChOBWp0"
      },
      "outputs": [],
      "source": [
        "#Get current directory\n",
        "import os\n",
        "curr_dir=os.getcwd()\n",
        "\n",
        "!pip install pydub\n",
        "!pip install tensorflow_datasets\n",
        "!pip install tqdm==4.40.0\n",
        "#Clone the repository\n",
        "!git clone --recursive https://github.com/mlcommons/tiny.git\n",
        "%cd tiny/benchmark/training/keyword_spotting"
      ]
    },
    {
      "cell_type": "code",
      "execution_count": null,
      "metadata": {
        "id": "Gn5iS_4zBsTj"
      },
      "outputs": [],
      "source": [
        "#Training from scratch\n",
        "#This will train the model, convert to quantized tflite,  and test against quantized tflite.\n",
        "!sh build_ref.sh"
      ]
    },
    {
      "cell_type": "code",
      "execution_count": null,
      "metadata": {
        "id": "Uhi7jL8L_BYD"
      },
      "outputs": [],
      "source": [
        "#Using pre-trained network. Skip the training from scratch steps to use the pre-trained network for quantization\n",
        "import tensorflow as tf\n",
        "import os\n",
        "import numpy as np\n",
        "import argparse\n",
        "\n",
        "import get_dataset as kws_data\n",
        "import kws_util\n",
        "\n",
        "if __name__ == '__main__':\n",
        "  Flags, unparsed = kws_util.parse_command()\n",
        "  saved_model_path=\"trained_models/kws_ref_model\"\n",
        "  tfl_file_name=\"trained_models/kws_ref_model.tflite\"\n",
        "  print(f\"Converting trained model {saved_model_path} to TFL model at {tfl_file_name}\")\n",
        "  converter = tf.lite.TFLiteConverter.from_saved_model(saved_model_path)\n",
        "  converter.optimizations = [tf.lite.Optimize.DEFAULT]\n",
        "  \n",
        "  with open(\"quant_cal_idxs.txt\") as fpi:\n",
        "    cal_indices = [int(line) for line in fpi]\n",
        "  cal_indices.sort()\n",
        "\n",
        "  num_calibration_steps = len(cal_indices)\n",
        "\n",
        "  _, _, ds_val = kws_data.get_training_data(Flags, val_cal_subset=True)\n",
        "  ds_val = ds_val.unbatch().batch(1) \n",
        "\n",
        "  if True: # enable if you want to check the distribution of labels in the calibration set\n",
        "    label_counts = {}\n",
        "    for label in range(12):\n",
        "      label_counts[label] = 0\n",
        "    for _, label in ds_val.as_numpy_iterator():\n",
        "      label_counts[label[0]] += 1\n",
        "    for label in range(12):\n",
        "      print(f\"Cal set has {label_counts[label]} of label {label}\")\n",
        "    \n",
        "\n",
        "  ds_iter = ds_val.as_numpy_iterator()\n",
        "  def representative_dataset_gen():\n",
        "    for _ in range(num_calibration_steps):\n",
        "      next_input = next(ds_iter)[0]\n",
        "      yield [next_input]\n",
        "  \n",
        "  converter.optimizations = [tf.lite.Optimize.DEFAULT]\n",
        "  converter.representative_dataset = representative_dataset_gen\n",
        "  converter.target_spec.supported_ops = [tf.lite.OpsSet.TFLITE_BUILTINS_INT8]\n",
        "  converter.inference_input_type = tf.int8  # or tf.uint8; should match dat_q in eval_quantized_model.py\n",
        "  converter.inference_output_type = tf.int8  # or tf.uint8\n",
        "\n",
        "  tflite_quant_model = converter.convert()\n",
        "  with open(tfl_file_name, \"wb\") as fpo:\n",
        "    num_bytes_written = fpo.write(tflite_quant_model)\n",
        "  print(f\"Wrote {num_bytes_written} / {len(tflite_quant_model)} bytes to tflite file\")"
      ]
    },
    {
      "cell_type": "code",
      "execution_count": null,
      "metadata": {
        "id": "i_w1L8IG6imV"
      },
      "outputs": [],
      "source": [
        "#Test the quantized model. \n",
        "!python eval_quantized_model.py --tfl_file_name=trained_models/kws_ref_model.tflite "
      ]
    },
    {
      "cell_type": "code",
      "execution_count": null,
      "metadata": {
        "id": "FIkORjgLBBFc"
      },
      "outputs": [],
      "source": [
        "#Rename tflite model following <architecture>_<application>.tflite. This will be used in TinyML Generator for accelerator and model generation\n",
        "!mv {curr_dir}/tiny/benchmark/training/keyword_spotting/trained_models/kws_ref_model.tflite  {curr_dir}/ds_cnn_kws.tflite"
      ]
    }
  ],
  "metadata": {
    "colab": {
      "collapsed_sections": [],
      "name": "Keyword Spotting.ipynb",
      "provenance": []
    },
    "kernelspec": {
      "display_name": "Python 3",
      "name": "python3"
    },
    "language_info": {
      "name": "python"
    }
  },
  "nbformat": 4,
  "nbformat_minor": 0
}
