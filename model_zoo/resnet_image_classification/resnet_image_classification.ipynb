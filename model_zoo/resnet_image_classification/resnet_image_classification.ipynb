{
  "cells": [
    {
      "cell_type": "code",
      "execution_count": null,
      "metadata": {
        "id": "OrL_ysC7KmRZ"
      },
      "outputs": [],
      "source": [
        "#Get current directory\n",
        "import os\n",
        "curr_dir=os.getcwd()\n",
        "\n",
        "#Clone the repository\n",
        "!git clone --recursive https://github.com/mlcommons/tiny.git\n",
        "%cd tiny/benchmark/training/image_classification"
      ]
    },
    {
      "cell_type": "code",
      "execution_count": 2,
      "metadata": {
        "id": "WRmsL9PBKd1g"
      },
      "outputs": [],
      "source": [
        "%%capture\n",
        "# Install the required dependencies to run the training\n",
        "!pip install -r requirements.txt"
      ]
    },
    {
      "cell_type": "code",
      "execution_count": null,
      "metadata": {
        "id": "a61LP2HZKTgf"
      },
      "outputs": [],
      "source": [
        "# Download training dataset\n",
        "!wget https://www.cs.toronto.edu/~kriz/cifar-10-python.tar.gz\n",
        "!tar -xvf cifar-10-python.tar.gz"
      ]
    },
    {
      "cell_type": "code",
      "execution_count": null,
      "metadata": {
        "id": "JjLo8OvKMXnd"
      },
      "outputs": [],
      "source": [
        "#Train the model\n",
        "!python train.py"
      ]
    },
    {
      "cell_type": "code",
      "execution_count": null,
      "metadata": {
        "id": "Wh7gucAcMdF8"
      },
      "outputs": [],
      "source": [
        "#Test the model \n",
        "!python test.py"
      ]
    },
    {
      "cell_type": "code",
      "execution_count": null,
      "metadata": {
        "id": "7Ueqw31ItvMj"
      },
      "outputs": [],
      "source": [
        "# Convert the model to TFlite with quantization\n",
        "import tensorflow as tf\n",
        "import numpy as np\n",
        "import train\n",
        "import keras_model\n",
        "\n",
        "model_name = keras_model.get_quant_model_name()\n",
        "tfmodel_path = 'trained_models/' + model_name + \".h5\"\n",
        "tfmodel = tf.keras.models.load_model(tfmodel_path)\n",
        "cifar_10_dir = 'cifar-10-batches-py'\n",
        "\n",
        "\n",
        "def representative_dataset_generator():\n",
        "    train_data, train_filenames, train_labels, test_data, test_filenames, test_labels, label_names = \\\n",
        "        train.load_cifar_10_data(cifar_10_dir)\n",
        "    _idx = np.load('calibration_samples_idxs.npy')\n",
        "    for i in _idx:\n",
        "        sample_img = np.expand_dims(np.array(test_data[i], dtype=np.float32), axis=0)\n",
        "        yield [sample_img]\n",
        "\n",
        "converter = tf.lite.TFLiteConverter.from_keras_model(tfmodel)\n",
        "tflite_model = converter.convert()\n",
        "open('trained_models/' + model_name + '.tflite', 'wb').write(tflite_model)\n",
        "\n",
        "converter.optimizations = [tf.lite.Optimize.DEFAULT]\n",
        "converter.target_spec.supported_ops = [tf.lite.OpsSet.TFLITE_BUILTINS_INT8]\n",
        "converter.representative_dataset = representative_dataset_generator\n",
        "converter.inference_input_type = tf.int8\n",
        "converter.inference_output_type = tf.int8\n",
        "tflite_quant_model = converter.convert()\n",
        "open('trained_models/' + model_name + '_quant.tflite', 'wb').write(tflite_quant_model)\n"
      ]
    },
    {
      "cell_type": "code",
      "execution_count": null,
      "metadata": {
        "id": "3wInZDDWKhDh"
      },
      "outputs": [],
      "source": [
        "#Test quantized model quality\n",
        "!python tflite_test.py"
      ]
    },
    {
      "cell_type": "code",
      "execution_count": null,
      "metadata": {
        "id": "L2bsFqnwjKhZ"
      },
      "outputs": [],
      "source": [
        "#Rename tflite model following <architecture>_<application>.tflite. This will be used in TinyML Generator for accelerator and model generation\n",
        "import keras_model\n",
        "model_name = keras_model.get_quant_model_name()\n",
        "print(model_name)\n",
        "!mv {curr_dir}/tiny/benchmark/training/image_classification/trained_models/{model_name}_quant.tflite {curr_dir}/resnet_image_classify.tflite"
      ]
    }
  ],
  "metadata": {
    "accelerator": "GPU",
    "colab": {
      "background_execution": "on",
      "collapsed_sections": [],
      "name": "Image Classification.ipynb",
      "provenance": []
    },
    "kernelspec": {
      "display_name": "Python 3",
      "name": "python3"
    },
    "language_info": {
      "name": "python"
    }
  },
  "nbformat": 4,
  "nbformat_minor": 0
}
