{
  "cells": [
    {
      "cell_type": "code",
      "execution_count": null,
      "metadata": {
        "id": "OrL_ysC7KmRZ"
      },
      "outputs": [],
      "source": [
        "# Install xxd if it is not available\n",
        "! apt-get -qq install xxd\n",
        "#Clone the repository\n",
        "!git clone --recursive https://github.com/mlcommons/tiny.git\n",
        "%cd tiny/benchmark/training/image_classification"
      ]
    },
    {
      "cell_type": "code",
      "execution_count": 2,
      "metadata": {
        "id": "WRmsL9PBKd1g"
      },
      "outputs": [],
      "source": [
        "%%capture\n",
        "# Install the required dependencies to run the training\n",
        "!pip install -r requirements.txt"
      ]
    },
    {
      "cell_type": "code",
      "execution_count": null,
      "metadata": {
        "id": "a61LP2HZKTgf"
      },
      "outputs": [],
      "source": [
        "# Download training dataset\n",
        "!wget https://www.cs.toronto.edu/~kriz/cifar-10-python.tar.gz\n",
        "!tar -xvf cifar-10-python.tar.gz"
      ]
    },
    {
      "cell_type": "code",
      "execution_count": null,
      "metadata": {
        "id": "JjLo8OvKMXnd"
      },
      "outputs": [],
      "source": [
        "#Train the model\n",
        "!python train.py"
      ]
    },
    {
      "cell_type": "code",
      "execution_count": null,
      "metadata": {
        "id": "Wh7gucAcMdF8"
      },
      "outputs": [],
      "source": [
        "#Test the model \n",
        "!python test.py"
      ]
    },
    {
      "cell_type": "code",
      "source": [
        "# Convert the model to TFlite with quantization\n",
        "import tensorflow as tf\n",
        "import numpy as np\n",
        "import train\n",
        "import keras_model\n",
        "\n",
        "model_name = keras_model.get_quant_model_name()\n",
        "tfmodel_path = 'trained_models/' + model_name + \".h5\"\n",
        "tfmodel = tf.keras.models.load_model(tfmodel_path)\n",
        "cifar_10_dir = 'cifar-10-batches-py'\n",
        "\n",
        "\n",
        "def representative_dataset_generator():\n",
        "    train_data, train_filenames, train_labels, test_data, test_filenames, test_labels, label_names = \\\n",
        "        train.load_cifar_10_data(cifar_10_dir)\n",
        "    _idx = np.load('calibration_samples_idxs.npy')\n",
        "    for i in _idx:\n",
        "        sample_img = np.expand_dims(np.array(test_data[i], dtype=np.float32), axis=0)\n",
        "        yield [sample_img]\n",
        "\n",
        "converter = tf.lite.TFLiteConverter.from_keras_model(tfmodel)\n",
        "tflite_model = converter.convert()\n",
        "open('trained_models/' + model_name + '.tflite', 'wb').write(tflite_model)\n",
        "\n",
        "converter.optimizations = [tf.lite.Optimize.DEFAULT]\n",
        "converter.target_spec.supported_ops = [tf.lite.OpsSet.TFLITE_BUILTINS_INT8]\n",
        "converter.representative_dataset = representative_dataset_generator\n",
        "converter.inference_input_type = tf.int8\n",
        "converter.inference_output_type = tf.int8\n",
        "tflite_quant_model = converter.convert()\n",
        "open('trained_models/' + model_name + '_quant.tflite', 'wb').write(tflite_quant_model)\n"
      ],
      "metadata": {
        "id": "7Ueqw31ItvMj"
      },
      "execution_count": null,
      "outputs": []
    },
    {
      "cell_type": "code",
      "execution_count": null,
      "metadata": {
        "id": "3wInZDDWKhDh"
      },
      "outputs": [],
      "source": [
        "#Test quantized model quality\n",
        "!python tflite_test.py"
      ]
    },
    {
      "cell_type": "code",
      "source": [
        "#Generate .cc and .h file to be used for hardware implementation\n",
        "import keras_model\n",
        "model_name = keras_model.get_quant_model_name()\n",
        "\n",
        "!xxd -i /content/tiny/benchmark/training/image_classification/trained_models/{model_name}_quant.tflite > /content/network_model_data_tmp.cc\n",
        "!wget -O /content/convert_model_cc.py https://www.dropbox.com/s/1q8n4jm9fk4gzzf/convert_model_cc.py?dl=0\n",
        "%cd /content\n",
        "!python /content/convert_model_cc.py --network=\"resnet\" --application=\"image_classify\"\n",
        "!rm -rf /content/network_model_data_tmp.cc"
      ],
      "metadata": {
        "id": "L2bsFqnwjKhZ"
      },
      "execution_count": null,
      "outputs": []
    }
  ],
  "metadata": {
    "accelerator": "GPU",
    "colab": {
      "background_execution": "on",
      "name": "Image Classification.ipynb",
      "provenance": [],
      "collapsed_sections": []
    },
    "kernelspec": {
      "display_name": "Python 3",
      "name": "python3"
    },
    "language_info": {
      "name": "python"
    }
  },
  "nbformat": 4,
  "nbformat_minor": 0
}
